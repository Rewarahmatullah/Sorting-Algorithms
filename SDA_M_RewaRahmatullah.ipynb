{
  "nbformat": 4,
  "nbformat_minor": 0,
  "metadata": {
    "colab": {
      "provenance": []
    },
    "kernelspec": {
      "name": "python3",
      "display_name": "Python 3"
    },
    "language_info": {
      "name": "python"
    }
  },
  "cells": [
    {
      "cell_type": "markdown",
      "source": [
        "**Tugas SDA Sorting Algorithms**\n",
        "\n",
        "Nama : M. Rewa Rahmatullah\n",
        "\n",
        "NIM : 22030214100\n",
        "\n",
        "Kelas : M2022U\n",
        "\n"
      ],
      "metadata": {
        "id": "jN_8hUlVBEDk"
      }
    },
    {
      "cell_type": "markdown",
      "source": [
        "# **1. Bubble Sort**"
      ],
      "metadata": {
        "id": "38OL_z2A_NiC"
      }
    },
    {
      "cell_type": "code",
      "source": [
        "def BubbleSort(arr):\n",
        "  n = len(arr)\n",
        "  for s in range(0,n):            #loop for step/iteration\n",
        "    for i in range(0, n-s-1):     #loop to compare array elements\n",
        "      if arr[i] > arr[i+1]:       #compare two adjacent elements\n",
        "        temp = arr[i]             #swapping elements if True\n",
        "        arr[i] = arr[i+1]\n",
        "        arr[i+1] = temp\n",
        "\n",
        "  return arr\n",
        "\n",
        "if __name__=='__main__':\n",
        "  data = [-2, 45, 0, 11, -9]\n",
        "  print(f'Initial Data: {data}')\n",
        "\n",
        "  B = BubbleSort(data)\n",
        "  print(f'Ascending Order (Bubble Sort): {B}')"
      ],
      "metadata": {
        "colab": {
          "base_uri": "https://localhost:8080/"
        },
        "id": "Fe0M1ZU-_P_T",
        "outputId": "94e301fb-cbf3-432d-95ed-ab9736391e49"
      },
      "execution_count": null,
      "outputs": [
        {
          "output_type": "stream",
          "name": "stdout",
          "text": [
            "Initial Data: [-2, 45, 0, 11, -9]\n",
            "Ascending Order (Bubble Sort): [-9, -2, 0, 11, 45]\n"
          ]
        }
      ]
    },
    {
      "cell_type": "markdown",
      "source": [
        "# **2. Selection Sort**"
      ],
      "metadata": {
        "id": "VgVzxvAy_UMu"
      }
    },
    {
      "cell_type": "code",
      "source": [
        "def SelectionSort(arr):\n",
        "    n = len(arr)\n",
        "    for s in range(0, n):\n",
        "        m = s\n",
        "        for i in range(s+1, n):\n",
        "            if arr[i] < arr[m]:\n",
        "               m = i\n",
        "\n",
        "        # swap position after each iteration\n",
        "        temp = arr[m]\n",
        "        arr[m] = arr[s]\n",
        "        arr[s] = temp\n",
        "\n",
        "    return arr\n",
        "\n",
        "if __name__=='__main__':\n",
        "    data = [20, 12, 10, 15, 2]\n",
        "    print(f'Initial Data: {data}')\n",
        "\n",
        "    S = SelectionSort(data)\n",
        "    print(f'Ascending Order (Selection Sort): {S}')"
      ],
      "metadata": {
        "colab": {
          "base_uri": "https://localhost:8080/"
        },
        "id": "b6oTklJ5_VAk",
        "outputId": "778d94d1-f1e7-441e-dd93-ff96565ff662"
      },
      "execution_count": null,
      "outputs": [
        {
          "output_type": "stream",
          "name": "stdout",
          "text": [
            "Initial Data: [20, 12, 10, 15, 2]\n",
            "Ascending Order (Selection Sort): [2, 10, 12, 15, 20]\n"
          ]
        }
      ]
    },
    {
      "cell_type": "markdown",
      "source": [
        "# **3. Insertion Sort**"
      ],
      "metadata": {
        "id": "jU4T9Np1_Xcl"
      }
    },
    {
      "cell_type": "code",
      "source": [
        "def InsertionSort(arr):\n",
        "    n = len(arr)\n",
        "    for s in range(1, n):\n",
        "        key = arr[s]\n",
        "        i = s - 1\n",
        "\n",
        "        # Compare key with previous element\n",
        "        while i >= 0 and key < arr[i]:\n",
        "            arr[i + 1] = arr[i]\n",
        "            i = i - 1\n",
        "\n",
        "        # Place key at after the element just smaller than it.\n",
        "        arr[i + 1] = key\n",
        "    return arr\n",
        "\n",
        "if __name__=='__main__':\n",
        "    data = [9, 5, 1, 4, 3]\n",
        "    print(f'Initial Data: {data}')\n",
        "\n",
        "    I = InsertionSort(data)\n",
        "    print(f'Ascending Order (Insertion Sort): {I}')"
      ],
      "metadata": {
        "colab": {
          "base_uri": "https://localhost:8080/"
        },
        "id": "2hMKofHw_YAN",
        "outputId": "0f8900b8-e344-4a44-f882-ad10910fbf07"
      },
      "execution_count": null,
      "outputs": [
        {
          "output_type": "stream",
          "name": "stdout",
          "text": [
            "Initial Data: [9, 5, 1, 4, 3]\n",
            "Ascending Order (Insertion Sort): [1, 3, 4, 5, 9]\n"
          ]
        }
      ]
    },
    {
      "cell_type": "markdown",
      "source": [
        "# **4. Merge Sort**"
      ],
      "metadata": {
        "id": "AcG1_4FA_Ydn"
      }
    },
    {
      "cell_type": "code",
      "source": [
        "def MergeSort(arr):\n",
        "    n = len(arr)\n",
        "    if n > 1:\n",
        "\n",
        "        #r is the point where the array is divided into two\n",
        "        r = n//2\n",
        "        L = arr[:r]         # Let L is left-half array\n",
        "        M = arr[r:]         # Let M is right-half array\n",
        "\n",
        "        # Sort the two halves\n",
        "        MergeSort(L)        # Recursively until base case\n",
        "        MergeSort(M)        # Recursively until base case\n",
        "\n",
        "        i = j = k = 0\n",
        "\n",
        "        #Until we reach either end of either L or M, pick larger among\n",
        "        #elements L and M and place them in the correct position\n",
        "        while i < len(L) and j < len(M):\n",
        "            if L[i] < M[j]:\n",
        "                arr[k] = L[i]\n",
        "                i += 1\n",
        "            else:\n",
        "                arr[k] = M[j]\n",
        "                j += 1\n",
        "            k += 1\n",
        "        # When we run out of elements in either L or M,\n",
        "        # pick up the remaining elements and put in A[p..r]\n",
        "        while i < len(L):\n",
        "            arr[k] = L[i]\n",
        "            i += 1\n",
        "            k += 1\n",
        "\n",
        "        while j < len(M):\n",
        "            arr[k] = M[j]\n",
        "            j += 1\n",
        "            k += 1\n",
        "    return arr\n",
        "\n",
        "if __name__=='__main__':\n",
        "    data = [6, 5, 12, 10, 9, 1]\n",
        "    print(f'Initial Data: {data}')\n",
        "\n",
        "    m = MergeSort(data)\n",
        "    print(f'Ascending Order (Merge Sort): {m}')"
      ],
      "metadata": {
        "colab": {
          "base_uri": "https://localhost:8080/"
        },
        "id": "gEiZpEJt_ZGM",
        "outputId": "eb034853-8894-48ab-bc56-bd554dc76849"
      },
      "execution_count": null,
      "outputs": [
        {
          "output_type": "stream",
          "name": "stdout",
          "text": [
            "Initial Data: [6, 5, 12, 10, 9, 1]\n",
            "Ascending Order (Merge Sort): [1, 5, 6, 9, 10, 12]\n"
          ]
        }
      ]
    },
    {
      "cell_type": "markdown",
      "source": [
        "# **5. Quick Sort**"
      ],
      "metadata": {
        "id": "N2KXCpL6_ZeF"
      }
    },
    {
      "cell_type": "code",
      "source": [
        "# function to find the partition position\n",
        "def partition(arr, low, high):\n",
        "  pivot = arr[high]\n",
        "  i = low - 1\n",
        "  for j in range(low, high):\n",
        "    if arr[j] <= pivot:\n",
        "      i = i + 1\n",
        "      (arr[i], arr[j]) = (arr[j], arr[i])\n",
        "\n",
        "  (arr[i + 1], arr[high]) = (arr[high], arr[i + 1])\n",
        "  return i + 1\n",
        "\n",
        "# function to perform quicksort\n",
        "def QuickSort(arr, low, high):\n",
        "  if low < high:\n",
        "    pi = partition(arr, low, high)\n",
        "    QuickSort(arr, low, pi - 1)\n",
        "    QuickSort(arr, pi + 1, high)\n",
        "  return arr\n",
        "\n",
        "if __name__=='__main__':\n",
        "  data = [8, 7, 6, 1, 0, 9, 2]\n",
        "  print(f'Initial Data: {data}')\n",
        "\n",
        "  n = len(data)\n",
        "  q = QuickSort(data, 0, n-1)\n",
        "  print(f'Ascending Order (Quick Sort): {q}')"
      ],
      "metadata": {
        "colab": {
          "base_uri": "https://localhost:8080/"
        },
        "id": "vbQ-TKwF_Z9-",
        "outputId": "3f0ae9d7-8dd9-4f7d-aa56-dd41274a7224"
      },
      "execution_count": null,
      "outputs": [
        {
          "output_type": "stream",
          "name": "stdout",
          "text": [
            "Initial Data: [8, 7, 6, 1, 0, 9, 2]\n",
            "Ascending Order (Quick Sort): [0, 1, 2, 6, 7, 8, 9]\n"
          ]
        }
      ]
    },
    {
      "cell_type": "markdown",
      "source": [
        "# **6. Bucket Sort**"
      ],
      "metadata": {
        "id": "VVG-61Sx_af4"
      }
    },
    {
      "cell_type": "code",
      "source": [
        "def BucketSort(array):\n",
        "    bucket = []\n",
        "\n",
        "    # Create empty buckets\n",
        "    for i in range(len(array)):\n",
        "        bucket.append([])\n",
        "\n",
        "    # Insert elements into their respective buckets\n",
        "    for j in array:\n",
        "        index_b = int(j/10.)\n",
        "        bucket[index_b].append(j)\n",
        "\n",
        "    # Sort the elements of each bucket using Insertion Sort\n",
        "    for i in range(len(array)):\n",
        "        bucket[i] = InsertionSort(bucket[i])\n",
        "\n",
        "    # Get the sorted elements\n",
        "    k = 0\n",
        "    for i in range(len(array)):\n",
        "        for j in range(len(bucket[i])):\n",
        "          array[k] = bucket[i][j]\n",
        "          k += 1\n",
        "    return array\n",
        "\n",
        "if __name__=='__main__':\n",
        "    data = [11, 9, 21, 8, 17, 19, 13, 1, 12]\n",
        "    print(f'Initial Data: {data}')\n",
        "\n",
        "    b = BucketSort(data)\n",
        "    print(f'Ascending Order (Bucket Sort): {b}')"
      ],
      "metadata": {
        "colab": {
          "base_uri": "https://localhost:8080/"
        },
        "id": "3_illW7J_a_6",
        "outputId": "6a0c3b10-093a-4c38-b320-53e3b17cb308"
      },
      "execution_count": null,
      "outputs": [
        {
          "output_type": "stream",
          "name": "stdout",
          "text": [
            "Initial Data: [11, 9, 21, 8, 17, 19, 13, 1, 12]\n",
            "Ascending Order (Bucket Sort): [1, 8, 9, 11, 12, 13, 17, 19, 21]\n"
          ]
        }
      ]
    }
  ]
}